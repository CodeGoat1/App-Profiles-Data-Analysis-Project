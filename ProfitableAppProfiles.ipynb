{
 "cells": [
  {
   "cell_type": "markdown",
   "id": "fcd58c00-910a-4d3d-85c7-9fe856872b7f",
   "metadata": {},
   "source": [
    "# Profitable App Profiles for the App Store and Google Play Markets!"
   ]
  },
  {
   "cell_type": "markdown",
   "id": "49bf5df6-e864-43cd-85c8-65bfe26d6564",
   "metadata": {},
   "source": [
    "The goal for this project is to analyze data to help our developers understand what type of apps are likely to attract more users"
   ]
  },
  {
   "cell_type": "markdown",
   "id": "b08237ae-9f46-4019-b3db-52b0d7045b22",
   "metadata": {},
   "source": [
    "Our company only build apps that are free to download and install, and that are directed toward an English-speaking audience"
   ]
  },
  {
   "cell_type": "code",
   "execution_count": 1,
   "id": "c3fd6515-49b4-42db-be10-d02de8a8cfcf",
   "metadata": {},
   "outputs": [],
   "source": [
    "from csv import reader\n",
    "\n",
    "### The Google Play data set ###\n",
    "opened_file = open('googleplaystore.csv')\n",
    "read_file = reader(opened_file)\n",
    "android = list(read_file)\n",
    "android_header = android[0]\n",
    "android = android[1:]\n",
    "\n",
    "### The App Store data set ###\n",
    "opened_file = open('AppleStore.csv')\n",
    "read_file = reader(opened_file)\n",
    "ios = list(read_file)\n",
    "ios_header = ios[0]\n",
    "ios = ios[1:]"
   ]
  },
  {
   "cell_type": "code",
   "execution_count": 2,
   "id": "1a70dc2e-205c-486d-b822-bf27ba9580f3",
   "metadata": {},
   "outputs": [],
   "source": [
    "def explore_data(dataset, start, end, rows_and_columns=False):\n",
    "    dataset_slice = dataset[start:end]    \n",
    "    for row in dataset_slice:\n",
    "        print(row)\n",
    "        print('\\n') # adds a new (empty) line after each row\n",
    "\n",
    "    if rows_and_columns:\n",
    "        print('Number of rows:', len(dataset))\n",
    "        print('Number of columns:', len(dataset[0]))"
   ]
  },
  {
   "cell_type": "code",
   "execution_count": 3,
   "id": "f1ce0d31-9600-49a6-9c3e-139bb03f81ac",
   "metadata": {},
   "outputs": [
    {
     "name": "stdout",
     "output_type": "stream",
     "text": [
      "Android:  ['App', 'Category', 'Rating', 'Reviews', 'Size', 'Installs', 'Type', 'Price', 'Content Rating', 'Genres', 'Last Updated', 'Current Ver', 'Android Ver']\n",
      "Ios:  ['id', 'track_name', 'size_bytes', 'currency', 'price', 'rating_count_tot', 'rating_count_ver', 'user_rating', 'user_rating_ver', 'ver', 'cont_rating', 'prime_genre', 'sup_devices.num', 'ipadSc_urls.num', 'lang.num', 'vpp_lic']\n"
     ]
    }
   ],
   "source": [
    "print(\"Android: \", android_header)\n",
    "print(\"Ios: \", ios_header)"
   ]
  },
  {
   "cell_type": "markdown",
   "id": "eced89ea-174f-4add-b815-bf8eab083039",
   "metadata": {},
   "source": [
    "# Cleaning the data"
   ]
  },
  {
   "cell_type": "markdown",
   "id": "a3b5fd4e-b080-4952-950a-481bd1cb2e8a",
   "metadata": {},
   "source": [
    "Removing duplicate apps, keeping those with the most reviews"
   ]
  },
  {
   "cell_type": "markdown",
   "id": "6332b86d-8b9b-41de-a409-3b519bb4a726",
   "metadata": {},
   "source": [
    "First Android:"
   ]
  },
  {
   "cell_type": "code",
   "execution_count": 5,
   "id": "528acd73-b2fe-4b38-a62b-c7c663b1ff73",
   "metadata": {},
   "outputs": [],
   "source": [
    "android_duplicate_apps = []\n",
    "android_unique_apps = []\n",
    "\n",
    "for app in android:\n",
    "    name = app[0]\n",
    "    if name in android_unique_apps:\n",
    "        android_duplicate_apps.append(name)\n",
    "    else:\n",
    "        android_unique_apps.append(name)"
   ]
  },
  {
   "cell_type": "code",
   "execution_count": 6,
   "id": "b88016b7-e5a3-402e-9b94-7ca687f6364d",
   "metadata": {},
   "outputs": [],
   "source": [
    "android_reviews_max = {}\n",
    "\n",
    "for app in android:\n",
    "    name = app[0]\n",
    "    n_reviews = app[3]\n",
    "    \n",
    "    #If the app is in the review dictionary and the review of the app in the dictionary is less than the review of the current app\n",
    "    if name in android_reviews_max and android_reviews_max[name] < n_reviews:\n",
    "        android_reviews_max[name] = n_reviews\n",
    "    \n",
    "    #If the app is not in the review dictionary\n",
    "    elif name not in android_reviews_max:\n",
    "        android_reviews_max[name] = n_reviews"
   ]
  },
  {
   "cell_type": "code",
   "execution_count": 7,
   "id": "4f2ef0ea-bd06-4e89-a52f-2be0b0a8df17",
   "metadata": {},
   "outputs": [],
   "source": [
    "android_clean = []\n",
    "android_already_added = []\n",
    "\n",
    "for app in android:\n",
    "    name = app[0]\n",
    "    n_reviews = app[3]\n",
    "    \n",
    "    if (android_reviews_max[name] == n_reviews) and (name not in android_already_added):\n",
    "        android_clean.append(app)\n",
    "        android_already_added.append(name)"
   ]
  },
  {
   "cell_type": "markdown",
   "id": "42e8a357-4be3-4d73-856c-10f409410937",
   "metadata": {},
   "source": [
    "Now Ios:"
   ]
  },
  {
   "cell_type": "code",
   "execution_count": 9,
   "id": "1e8e3b88-128e-4a34-8d35-2ad73b4a9777",
   "metadata": {},
   "outputs": [],
   "source": [
    "ios_duplicate_apps = []\n",
    "ios_unique_apps = []\n",
    "\n",
    "for app in ios:\n",
    "    name = app[0]\n",
    "    if name in ios_unique_apps:\n",
    "        ios_duplicate_apps.append(name)\n",
    "    else:\n",
    "        ios_unique_apps.append(name)"
   ]
  },
  {
   "cell_type": "code",
   "execution_count": 10,
   "id": "2888f55c-38d8-4d4a-a938-da48bf3c9e17",
   "metadata": {},
   "outputs": [],
   "source": [
    "ios_reviews_max = {}\n",
    "\n",
    "for app in ios:\n",
    "    name = app[0]\n",
    "    n_reviews = app[3]\n",
    "    \n",
    "    #If the app is in the review dictionary and the review of the app in the dictionary is less than the review of the current app\n",
    "    if name in ios_reviews_max and ios_reviews_max[name] < n_reviews:\n",
    "        ios_reviews_max[name] = n_reviews\n",
    "    \n",
    "    #If the app is not in the review dictionary\n",
    "    elif name not in ios_reviews_max:\n",
    "        ios_reviews_max[name] = n_reviews"
   ]
  },
  {
   "cell_type": "code",
   "execution_count": 11,
   "id": "9de0d237-7177-4f0a-afca-14baf453a3a9",
   "metadata": {},
   "outputs": [],
   "source": [
    "ios_clean = []\n",
    "ios_already_added = []\n",
    "\n",
    "for app in ios:\n",
    "    name = app[0]\n",
    "    n_reviews = app[3]\n",
    "    \n",
    "    if (ios_reviews_max[name] == n_reviews) and (name not in ios_already_added):\n",
    "        ios_clean.append(app)\n",
    "        ios_already_added.append(name)"
   ]
  },
  {
   "cell_type": "markdown",
   "id": "573b3b74-d0b1-4e66-8ea4-bcbf1609ae68",
   "metadata": {},
   "source": [
    "Removing non-english apps"
   ]
  },
  {
   "cell_type": "code",
   "execution_count": 16,
   "id": "6c455800-f3e3-48e1-bcd3-ab21b85e1f6e",
   "metadata": {},
   "outputs": [],
   "source": [
    "def is_english(string):\n",
    "    non_ascii = 0\n",
    "    \n",
    "    #code finds if there are more than three non-ascii characters\n",
    "    for character in string:\n",
    "        if ord(character) > 127:\n",
    "            non_ascii += 1\n",
    "    \n",
    "    #return false if there are more than three non-english characters\n",
    "    if non_ascii > 3:\n",
    "        return False\n",
    "    else:\n",
    "        return True"
   ]
  },
  {
   "cell_type": "code",
   "execution_count": 17,
   "id": "9fc391dd-16ce-4067-b277-fa3032373743",
   "metadata": {},
   "outputs": [],
   "source": [
    "android_english = []\n",
    "ios_english = []\n",
    "\n",
    "#add all apps that have english characters (three or less non-ascii characters)\n",
    "for app in android_clean:\n",
    "    name = app[0]\n",
    "    if is_english(name):\n",
    "        android_english.append(app)       \n",
    "for app in ios:\n",
    "    name = app[1]\n",
    "    if is_english(name):\n",
    "        ios_english.append(app)"
   ]
  },
  {
   "cell_type": "markdown",
   "id": "5bb5a316-c64d-4bd1-afab-179f08872ce0",
   "metadata": {},
   "source": [
    "Isolate the free apps"
   ]
  },
  {
   "cell_type": "code",
   "execution_count": 19,
   "id": "1d5dc4c2-0664-4629-969d-1ce8d0660104",
   "metadata": {},
   "outputs": [],
   "source": [
    "android_final = []\n",
    "ios_final = []\n",
    "\n",
    "#If the price which is in the 7th index of the app list is '0', add to final list set\n",
    "for app in android_english:\n",
    "    price = app[7]\n",
    "    if price == '0':\n",
    "        android_final.append(app)\n",
    "#If the price which is in the 4th index of the app list is '0', add to final list set  \n",
    "for app in ios_english:\n",
    "    price = app[4]\n",
    "    if price == '0.0':\n",
    "        ios_final.append(app)"
   ]
  },
  {
   "cell_type": "markdown",
   "id": "5fd719d9-c560-4142-919d-939037099f10",
   "metadata": {},
   "source": [
    "# Building Frequency Tables"
   ]
  },
  {
   "cell_type": "markdown",
   "id": "2352711f-f2ab-466f-95fd-0fcb380139b8",
   "metadata": {},
   "source": [
    "Frequency Table Functions"
   ]
  },
  {
   "cell_type": "code",
   "execution_count": 20,
   "id": "e220658a-6a21-4b39-9414-a0a19fab099a",
   "metadata": {},
   "outputs": [],
   "source": [
    "def freq_table(dataset, index):\n",
    "    table = {}\n",
    "    total = 0\n",
    "    \n",
    "    for row in dataset:\n",
    "        total += 1\n",
    "        value = row[index]\n",
    "        if value in table:\n",
    "            table[value] += 1\n",
    "        else:\n",
    "            table[value] = 1\n",
    "    \n",
    "    table_percentages = {}\n",
    "    for key in table:\n",
    "        percentage = (table[key] / total) * 100\n",
    "        table_percentages[key] = percentage \n",
    "    \n",
    "    return table_percentages\n",
    "\n",
    "def display_table(dataset, index):\n",
    "    table = freq_table(dataset, index)\n",
    "    table_display = []\n",
    "    for key in table:\n",
    "        key_val_as_tuple = (table[key], key)\n",
    "        table_display.append(key_val_as_tuple)\n",
    "        \n",
    "    table_sorted = sorted(table_display, reverse = True)\n",
    "    for entry in table_sorted:\n",
    "        print(entry[1], ':', entry[0])"
   ]
  },
  {
   "cell_type": "code",
   "execution_count": null,
   "id": "7b8058f0-af23-4bb9-ab46-03fc6b8b7e25",
   "metadata": {},
   "outputs": [],
   "source": []
  }
 ],
 "metadata": {
  "kernelspec": {
   "display_name": "Python 3 (ipykernel)",
   "language": "python",
   "name": "python3"
  },
  "language_info": {
   "codemirror_mode": {
    "name": "ipython",
    "version": 3
   },
   "file_extension": ".py",
   "mimetype": "text/x-python",
   "name": "python",
   "nbconvert_exporter": "python",
   "pygments_lexer": "ipython3",
   "version": "3.7.12"
  }
 },
 "nbformat": 4,
 "nbformat_minor": 5
}
