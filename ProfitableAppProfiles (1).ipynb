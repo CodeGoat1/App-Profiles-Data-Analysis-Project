{
 "cells": [
  {
   "cell_type": "markdown",
   "id": "fcd58c00-910a-4d3d-85c7-9fe856872b7f",
   "metadata": {},
   "source": [
    "# Profitable App Profiles for the App Store and Google Play Markets!"
   ]
  },
  {
   "cell_type": "markdown",
   "id": "49bf5df6-e864-43cd-85c8-65bfe26d6564",
   "metadata": {},
   "source": [
    "The goal for this project is to analyze data to help our developers understand what type of apps are likely to attract more users"
   ]
  },
  {
   "cell_type": "markdown",
   "id": "b08237ae-9f46-4019-b3db-52b0d7045b22",
   "metadata": {},
   "source": [
    "Our company only build apps that are free to download and install, and that are directed toward an English-speaking audience"
   ]
  },
  {
   "cell_type": "code",
   "execution_count": 4,
   "id": "c3fd6515-49b4-42db-be10-d02de8a8cfcf",
   "metadata": {},
   "outputs": [],
   "source": [
    "from csv import reader\n",
    "\n",
    "### The Google Play data set ###\n",
    "opened_file = open('googleplaystore.csv')\n",
    "read_file = reader(opened_file) #reader operator reads the csv file\n",
    "android = list(read_file) #android is assigned a list of lists (the csv file's contents)\n",
    "android_header = android[0] #android_header is the catergories for each column of the csv file\n",
    "android = android[1:] #android is reassigned to all the app files, removing the header\n",
    "\n",
    "### The App Store data set ###\n",
    "opened_file = open('AppleStore.csv')\n",
    "read_file = reader(opened_file) #reader operator reads the csv file\n",
    "ios = list(read_file) #ios is assigned a list of lists (the csv file's contents)\n",
    "ios_header = ios[0] #ios_header is the catergories for each column of the csv file\n",
    "ios = ios[1:] #ios is reassigned to all the app files, removing the header"
   ]
  },
  {
   "cell_type": "code",
   "execution_count": 5,
   "id": "1a70dc2e-205c-486d-b822-bf27ba9580f3",
   "metadata": {},
   "outputs": [],
   "source": [
    "#This function is used to see the contents of a given app, or set of apps\n",
    "def explore_data(dataset, start, end, rows_and_columns=False):\n",
    "    dataset_slice = dataset[start:end] #dataset_slice is equal to a specified set of data\n",
    "    for row in dataset_slice:\n",
    "        print(row)\n",
    "        print('\\n') # adds a new (empty) line after each row\n",
    "\n",
    "    if rows_and_columns:\n",
    "        print('Number of rows:', len(dataset))\n",
    "        print('Number of columns:', len(dataset[0]))"
   ]
  },
  {
   "cell_type": "code",
   "execution_count": 6,
   "id": "f1ce0d31-9600-49a6-9c3e-139bb03f81ac",
   "metadata": {},
   "outputs": [
    {
     "name": "stdout",
     "output_type": "stream",
     "text": [
      "Android:  ['App', 'Category', 'Rating', 'Reviews', 'Size', 'Installs', 'Type', 'Price', 'Content Rating', 'Genres', 'Last Updated', 'Current Ver', 'Android Ver']\n",
      "\n",
      "\n",
      "Ios:  ['id', 'track_name', 'size_bytes', 'currency', 'price', 'rating_count_tot', 'rating_count_ver', 'user_rating', 'user_rating_ver', 'ver', 'cont_rating', 'prime_genre', 'sup_devices.num', 'ipadSc_urls.num', 'lang.num', 'vpp_lic']\n"
     ]
    }
   ],
   "source": [
    "#These are the two headers for the catergories of the data for both app stores\n",
    "print(\"Android: \", android_header)\n",
    "print('\\n')\n",
    "print(\"Ios: \", ios_header)"
   ]
  },
  {
   "cell_type": "markdown",
   "id": "eced89ea-174f-4add-b815-bf8eab083039",
   "metadata": {},
   "source": [
    "# Cleaning the data"
   ]
  },
  {
   "cell_type": "markdown",
   "id": "a3b5fd4e-b080-4952-950a-481bd1cb2e8a",
   "metadata": {},
   "source": [
    "Removing duplicate apps, keeping those with the most reviews"
   ]
  },
  {
   "cell_type": "markdown",
   "id": "6332b86d-8b9b-41de-a409-3b519bb4a726",
   "metadata": {},
   "source": [
    "First Android:"
   ]
  },
  {
   "cell_type": "code",
   "execution_count": 7,
   "id": "b88016b7-e5a3-402e-9b94-7ca687f6364d",
   "metadata": {},
   "outputs": [],
   "source": [
    "android_reviews_max = {} #create a dictionary to keep track of which apps have the most reviews\n",
    "\n",
    "for app in android:\n",
    "    name = app[0]\n",
    "    n_reviews = app[3]\n",
    "    \n",
    "    ##If a duplicate app is found in the dictionary that has less value than the current app, the app in the dictionary is assigned the higher value of the current app\n",
    "    if name in android_reviews_max and android_reviews_max[name] < n_reviews:\n",
    "        android_reviews_max[name] = n_reviews \n",
    "    \n",
    "    #If the app is not in the review dictionary\n",
    "    elif name not in android_reviews_max:\n",
    "        android_reviews_max[name] = n_reviews #keyword is the apps name, the assigned value is the number of reviews"
   ]
  },
  {
   "cell_type": "code",
   "execution_count": 8,
   "id": "4f2ef0ea-bd06-4e89-a52f-2be0b0a8df17",
   "metadata": {},
   "outputs": [],
   "source": [
    "android_clean = []\n",
    "android_already_added = []\n",
    "\n",
    "for app in android:\n",
    "    name = app[0]\n",
    "    n_reviews = app[3]\n",
    "    \n",
    "    #This if statement only adds apps with the highest found reviews into android_clean\n",
    "    if (android_reviews_max[name] == n_reviews) and (name not in android_already_added):\n",
    "        android_clean.append(app)\n",
    "        android_already_added.append(name) #already_added is used to remove duplicate apps with the same amount of reviews"
   ]
  },
  {
   "cell_type": "markdown",
   "id": "42e8a357-4be3-4d73-856c-10f409410937",
   "metadata": {},
   "source": [
    "Now Ios:"
   ]
  },
  {
   "cell_type": "code",
   "execution_count": 9,
   "id": "2888f55c-38d8-4d4a-a938-da48bf3c9e17",
   "metadata": {},
   "outputs": [],
   "source": [
    "#This code has the same function as the above two code blocks, locating each app with the highest reviews, and excluding duplicates with lower or same review counts\n",
    "ios_reviews_max = {}\n",
    "\n",
    "for app in ios:\n",
    "    name = app[0]\n",
    "    n_reviews = app[3]\n",
    "    \n",
    "    if name in ios_reviews_max and ios_reviews_max[name] < n_reviews:\n",
    "        ios_reviews_max[name] = n_reviews\n",
    "    \n",
    "    elif name not in ios_reviews_max:\n",
    "        ios_reviews_max[name] = n_reviews"
   ]
  },
  {
   "cell_type": "code",
   "execution_count": 10,
   "id": "9de0d237-7177-4f0a-afca-14baf453a3a9",
   "metadata": {},
   "outputs": [],
   "source": [
    "ios_clean = []\n",
    "ios_already_added = []\n",
    "\n",
    "for app in ios:\n",
    "    name = app[0]\n",
    "    n_reviews = app[3]\n",
    "    \n",
    "    if (ios_reviews_max[name] == n_reviews) and (name not in ios_already_added):\n",
    "        ios_clean.append(app)\n",
    "        ios_already_added.append(name)"
   ]
  },
  {
   "cell_type": "markdown",
   "id": "573b3b74-d0b1-4e66-8ea4-bcbf1609ae68",
   "metadata": {},
   "source": [
    "Removing non-english apps"
   ]
  },
  {
   "cell_type": "code",
   "execution_count": 11,
   "id": "6c455800-f3e3-48e1-bcd3-ab21b85e1f6e",
   "metadata": {},
   "outputs": [],
   "source": [
    "def is_english(string):\n",
    "    non_ascii = 0\n",
    "    \n",
    "    #code finds if there are more than three non-ascii characters\n",
    "    for character in string:\n",
    "        if ord(character) > 127:\n",
    "            non_ascii += 1\n",
    "    \n",
    "    #return false if there are more than three non-english characters\n",
    "    if non_ascii > 3:\n",
    "        return False\n",
    "    else:\n",
    "        return True"
   ]
  },
  {
   "cell_type": "code",
   "execution_count": 12,
   "id": "9fc391dd-16ce-4067-b277-fa3032373743",
   "metadata": {},
   "outputs": [],
   "source": [
    "android_english = []\n",
    "ios_english = []\n",
    "\n",
    "#add all apps that have english characters (three or less non-ascii characters)\n",
    "for app in android_clean:\n",
    "    name = app[0]\n",
    "    if is_english(name):\n",
    "        android_english.append(app)       \n",
    "for app in ios:\n",
    "    name = app[1]\n",
    "    if is_english(name):\n",
    "        ios_english.append(app)"
   ]
  },
  {
   "cell_type": "markdown",
   "id": "5bb5a316-c64d-4bd1-afab-179f08872ce0",
   "metadata": {},
   "source": [
    "Isolate the free apps"
   ]
  },
  {
   "cell_type": "code",
   "execution_count": 13,
   "id": "1d5dc4c2-0664-4629-969d-1ce8d0660104",
   "metadata": {},
   "outputs": [],
   "source": [
    "android_final = []\n",
    "ios_final = []\n",
    "\n",
    "#If the price which is in the 7th index of the app list is '0', add to final list set\n",
    "for app in android_english:\n",
    "    price = app[7]\n",
    "    if price == '0':\n",
    "        android_final.append(app)\n",
    "#If the price which is in the 4th index of the app list is '0', add to final list set  \n",
    "for app in ios_english:\n",
    "    price = app[4]\n",
    "    if price == '0.0':\n",
    "        ios_final.append(app)"
   ]
  },
  {
   "cell_type": "markdown",
   "id": "5fd719d9-c560-4142-919d-939037099f10",
   "metadata": {},
   "source": [
    "# Building Frequency Tables"
   ]
  },
  {
   "cell_type": "markdown",
   "id": "2352711f-f2ab-466f-95fd-0fcb380139b8",
   "metadata": {},
   "source": [
    "Frequency Table Functions"
   ]
  },
  {
   "cell_type": "code",
   "execution_count": 55,
   "id": "e220658a-6a21-4b39-9414-a0a19fab099a",
   "metadata": {},
   "outputs": [],
   "source": [
    "#freq_table takes the final android apps list as the 'dataset' parameter and the index for the intended catergory as the 'index' parameter\n",
    "def freq_table(dataset, index): \n",
    "    table = {}\n",
    "    total = 0\n",
    "    \n",
    "    #loops through each app in the given dataset\n",
    "    for row in dataset:\n",
    "        total += 1 #total is incremented by 1\n",
    "        value = row[index] #'value' is assigned the given catergory value using the specified index number\n",
    "        #assigns 'table' dictionary a keyword of the value\n",
    "        #the value is assigned a 1, or is incremented by 1 if that value is found in the dictionary\n",
    "        if value in table:\n",
    "            table[value] += 1\n",
    "        else:\n",
    "            table[value] = 1\n",
    "    \n",
    "    table_percentages = {}\n",
    "    #loops through the keywords in 'table' dictionary\n",
    "    for key in table:\n",
    "        percentage = (table[key] / total) * 100\n",
    "        #assigns 'table_percentages' dictionary a keyword of the given value\n",
    "        #assigns the value keyword the percentage of how frequent that value is in it's given data catergory\n",
    "        table_percentages[key] = percentage \n",
    "        #organizes the dictionary to be sorted by it's percentage from highest to lowest\n",
    "        t = sorted(table_percentages.items(), key=lambda x: x[1], reverse= True)\n",
    "    \n",
    "    #returns table_percentages as a tuple sorted by which catergory is the most frequent in descending order\n",
    "    return t\n",
    "\n",
    "#display_table uses the freq_table function\n",
    "def display_table(dataset, index):\n",
    "    #table is set to the table_percentages tuple returned from 'freq_table'\n",
    "    table = freq_table(dataset, index)\n",
    "    #loops through each tuple and prints each catergory and value\n",
    "    for entry in table:\n",
    "        print(entry[0], ':', entry[1])"
   ]
  },
  {
   "cell_type": "markdown",
   "id": "61031c1b-38ec-4ebd-b770-544d27047cf5",
   "metadata": {},
   "source": [
    "The headers, just for reference"
   ]
  },
  {
   "cell_type": "code",
   "execution_count": 13,
   "id": "7b8058f0-af23-4bb9-ab46-03fc6b8b7e25",
   "metadata": {},
   "outputs": [
    {
     "name": "stdout",
     "output_type": "stream",
     "text": [
      "Android:  ['App', 'Category', 'Rating', 'Reviews', 'Size', 'Installs', 'Type', 'Price', 'Content Rating', 'Genres', 'Last Updated', 'Current Ver', 'Android Ver']\n",
      "\n",
      "\n",
      "Ios:  ['id', 'track_name', 'size_bytes', 'currency', 'price', 'rating_count_tot', 'rating_count_ver', 'user_rating', 'user_rating_ver', 'ver', 'cont_rating', 'prime_genre', 'sup_devices.num', 'ipadSc_urls.num', 'lang.num', 'vpp_lic']\n"
     ]
    }
   ],
   "source": [
    "print(\"Android: \", android_header)\n",
    "print('\\n')\n",
    "print(\"Ios: \", ios_header)"
   ]
  },
  {
   "cell_type": "markdown",
   "id": "39098332-9320-4839-80ac-a56634ed5d0d",
   "metadata": {},
   "source": [
    "Here's an example of freq_table printing the catergories in high to low order of how frequent each unique catergory is in the dataset:"
   ]
  },
  {
   "cell_type": "code",
   "execution_count": 15,
   "id": "deb0ae89-1ca5-4c1e-8bda-9eb0c2e88a0d",
   "metadata": {},
   "outputs": [
    {
     "name": "stdout",
     "output_type": "stream",
     "text": [
      "[('Everyone', 81.42631460167004), ('Teen', 11.058451816745656), ('Mature 17+', 4.1864139020537126), ('Everyone 10+', 3.2723990069961637), ('Adults only 18+', 0.033852403520649964), ('Unrated', 0.022568269013766643)]\n"
     ]
    }
   ],
   "source": [
    "print(freq_table(android_final, 8))"
   ]
  },
  {
   "cell_type": "markdown",
   "id": "5aca5442-d1fb-40a0-88c4-45004518d439",
   "metadata": {},
   "source": [
    "Here's an example of display_table printing each catergory and it's frequency out of each data catergory:"
   ]
  },
  {
   "cell_type": "code",
   "execution_count": 27,
   "id": "67ebb2b8-feec-48bd-bb66-15b7da2b4036",
   "metadata": {},
   "outputs": [
    {
     "name": "stdout",
     "output_type": "stream",
     "text": [
      "Everyone : 81.42631460167004\n",
      "Teen : 11.058451816745656\n",
      "Mature 17+ : 4.1864139020537126\n",
      "Everyone 10+ : 3.2723990069961637\n",
      "Adults only 18+ : 0.033852403520649964\n",
      "Unrated : 0.022568269013766643\n"
     ]
    }
   ],
   "source": [
    "display_table(android_final, 8)"
   ]
  },
  {
   "cell_type": "markdown",
   "id": "53d930dd-c80c-4e49-b747-6fe228444540",
   "metadata": {},
   "source": [
    "Using the display table function, you are able to find the most frequent values for each catergory of the apps in the given appstore"
   ]
  },
  {
   "cell_type": "markdown",
   "id": "9c638ffa-fa34-4dad-8ffe-5ec07ba942e1",
   "metadata": {},
   "source": [
    "Using this data, say your target audience is teenagers and you are seeking which apps have the highest ratings"
   ]
  },
  {
   "cell_type": "markdown",
   "id": "75554269-cf72-4e08-8249-6dadaa2e31df",
   "metadata": {},
   "source": [
    "You can find out which Teen apps have the highest ratings, using a for loop"
   ]
  },
  {
   "cell_type": "code",
   "execution_count": 54,
   "id": "e7860b11-956f-4ebd-b952-5e7c310b4c67",
   "metadata": {},
   "outputs": [
    {
     "name": "stdout",
     "output_type": "stream",
     "text": [
      "('Spine- The dating app', '5.0')\n",
      "('Eternal Light AG', '5.0')\n",
      "('Jobs in Canada - Emplois au Canada', '5.0')\n",
      "('A-Y Collection', '5.0')\n",
      "('Railroad Radio Vancouver BC', '5.0')\n",
      "('Movement BE', '5.0')\n",
      "('CL Notifier', '5.0')\n",
      "('Foothills CP', '5.0')\n",
      "('DN Blog', '5.0')\n",
      "('chat dz', '5.0')\n",
      "('i am EB', '5.0')\n",
      "('UP EB Bill Payment & Details', '5.0')\n",
      "('EC Calgary', '5.0')\n",
      "('EF Events', '5.0')\n",
      "('EJ messenger', '5.0')\n",
      "('Hum Ek Hain 2.02', '5.0')\n",
      "('Jigsaw Volvo FH 16 Trucks', '5.0')\n",
      "('Wallpapers FN SCAR H', '5.0')\n",
      "('Fr. Daoud Lamei', '5.0')\n",
      "('Mummatikabalkuragi', '4.9')\n",
      "('Down Dog: Great Yoga Anywhere', '4.9')\n",
      "('EXO-L Amino for EXO Fans', '4.9')\n",
      "('BT Church', '4.9')\n",
      "('DC Comics Amino', '4.9')\n",
      "('Eddsworld Amino', '4.9')\n",
      "('Canvas FL', '4.9')\n",
      "('Free Books - Spirit Fanfiction and Stories', '4.8')\n",
      "('SoloLearn: Learn to Code for Free', '4.8')\n",
      "('Eternium', '4.8')\n",
      "('KPOP Amino for K-Pop Entertainment', '4.8')\n",
      "(\"PewDiePie's Tuber Simulator\", '4.8')\n",
      "('Undertale AU Amino', '4.8')\n",
      "('Catalyst AZ', '4.8')\n",
      "('WebComics', '4.8')\n",
      "('CA Speakers Free', '4.8')\n",
      "('ClanPlay: Community and Tools for Gamers', '4.8')\n",
      "('Dan the Man: Action Platformer', '4.8')\n",
      "('DK Murali', '4.8')\n",
      "('TN Patta /Chitta /EC New', '4.8')\n",
      "('Equestria Amino for MLP', '4.8')\n",
      "('Ek Maratha', '4.8')\n",
      "('Anime et Manga Amino en Français', '4.8')\n",
      "('Amino: Communities and Chats', '4.8')\n",
      "('Puzzles Volvo FH 16 Trucks', '4.8')\n",
      "('Ninja FN Button', '4.8')\n",
      "('I Creative Idea', '4.7')\n",
      "('GANMA! - All original stories free of charge for all original comics', '4.7')\n",
      "('Best Wallpapers Backgrounds(100,000+ 4K HD)', '4.7')\n",
      "('Wipe out', '4.7')\n",
      "('Delicious Recipes', '4.7')\n",
      "('DIY On A Budget', '4.7')\n",
      "('Honkai Impact 3rd', '4.7')\n",
      "('Cover Fire: offline shooting games for free', '4.7')\n",
      "('Gems or jewels ?', '4.7')\n",
      "('Bowmasters', '4.7')\n",
      "('BELONG Beating Cancer Together', '4.7')\n",
      "('The birth', '4.7')\n",
      "('DreamTrips', '4.7')\n",
      "('Backgrounds (HD Wallpapers)', '4.7')\n",
      "('Mozart Baby Sleep', '4.7')\n",
      "('The Guardian', '4.7')\n",
      "('Bible', '4.7')\n",
      "(\"Rock N' Cash Casino Slots -Free Vegas Slot Games\", '4.7')\n",
      "('Join R, Community Engagement', '4.7')\n",
      "('Z Champions', '4.7')\n",
      "('Jamaa Amino for Animal Jam', '4.7')\n",
      "('Axe Wallpaper', '4.7')\n",
      "('Bingo Party - Free Bingo Games', '4.7')\n",
      "('Cards Casino:Video Poker & BJ', '4.7')\n",
      "('BlackJack -21 Casino Card Game', '4.7')\n",
      "('BK Traffic Control cum Chart', '4.7')\n",
      "('Bingo by IGG: Top Bingo+Slots!', '4.7')\n",
      "('Cystic Fibrosis Symptoms, Doctors & Treatments', '4.7')\n",
      "('All Info about Cg', '4.7')\n",
      "('BF CG Abstract Pictures', '4.7')\n",
      "('Calvin Klein – US Store', '4.7')\n",
      "('Them Bombs: co-op board game play with 2-4 friends', '4.7')\n",
      "('Deck Heroes: Legacy', '4.7')\n",
      "('Darkness Rises', '4.7')\n",
      "('DP and Status Images | All Latest Status 2018', '4.7')\n",
      "('Narcos: Cartel Wars', '4.7')\n",
      "('Super Doctor 2 - My Newborn Baby ER Injection', '4.7')\n",
      "('Open Heart Surgery Hospital ER: Crazy Doctor Sim', '4.7')\n",
      "('PlugShare', '4.7')\n",
      "('Profile Tracker - Who Viewed My Facebook Profile', '4.7')\n",
      "('FJ Final Join , Circles Game', '4.7')\n",
      "('Discovery Church Florida', '4.7')\n",
      "('Litnet - E-books', '4.6')\n",
      "('Manga - read Thai translation', '4.6')\n",
      "('Twitch: Livestream Multiplayer Games & Esports', '4.6')\n",
      "('Fandango Movies - Times + Tickets', '4.6')\n",
      "('Endurance Lifestyle', '4.6')\n",
      "('Om Waleed Sweets', '4.6')\n",
      "('Eve Period Tracker - Love, Sex & Relationships App', '4.6')\n",
      "('House app: beautiful everyday ~', '4.6')\n",
      "('justWink Greeting Cards', '4.6')\n",
      "('Partymasters - Fun Idle Game', '4.6')\n",
      "('SHADOWGUN LEGENDS', '4.6')\n",
      "('Choices: Stories You Play', '4.6')\n",
      "('FINAL FANTASY BRAVE EXVIUS', '4.6')\n",
      "('Major Mayhem', '4.6')\n",
      "('Earn to Die 2', '4.6')\n",
      "('Stick War: Legacy', '4.6')\n",
      "('Pinterest', '4.6')\n",
      "('Telegram X', '4.6')\n",
      "('AliExpress - Smarter Shopping, Better Living', '4.6')\n",
      "('World Cup 2018', '4.6')\n",
      "('ZEDGE™ Ringtones & Wallpapers', '4.6')\n",
      "('CM Launcher 3D - Theme, Wallpapers, Efficient', '4.6')\n",
      "('Backgrounds HD (Wallpapers)', '4.6')\n",
      "('LIKE – Magic Video Maker & Community', '4.6')\n",
      "('Free TV Shows App:News, TV Series, Episode, Movies', '4.6')\n",
      "('Podcast Addict', '4.6')\n",
      "('RT News (Russia Today)', '4.6')\n",
      "('Dog Sim Online: Raise a Family', '4.6')\n",
      "('Dragon Sim Online: Be A Dragon', '4.6')\n",
      "('Video Downloader for Facebook', '4.6')\n",
      "('KDRAMA Amino for K-Drama Fans', '4.6')\n",
      "('VivaVideo - Video Editor & Photo Movie', '4.6')\n",
      "('Wattpad 📖 Free Books', '4.6')\n",
      "('Dictionary - WordWeb', '4.6')\n",
      "('Zapya - File Transfer, Sharing', '4.6')\n",
      "('Z-Empire: Dead Strike', '4.6')\n",
      "('9GAG: Funny Gifs, Pics, Memes & Videos for IGTV', '4.6')\n",
      "('Al jazeera TV', '4.6')\n",
      "('Trell: An app for Explorers | Best Wanderlust App', '4.6')\n",
      "('Soccer Star 2018 Top Leagues · MLS Soccer Games', '4.6')\n",
      "('Guns of Boom - Online Shooter', '4.6')\n",
      "('Be My Love Animated Keyboard', '4.6')\n",
      "('Bitmoji – Your Personal Emoji', '4.6')\n",
      "('Marked by King Bs', '4.6')\n",
      "('Sleeping Delivery', '4.6')\n",
      "('Black Social', '4.6')\n",
      "('Slot Machines by IGG', '4.6')\n",
      "('RIDE ZERO', '4.6')\n",
      "('MadLipz', '4.6')\n",
      "('DRAGON BALL LEGENDS', '4.6')\n",
      "('Dragon Nest M', '4.6')\n",
      "('Coupons for Dairy Queen', '4.6')\n",
      "('RPG Dragon Lapis', '4.6')\n",
      "('The Walking Zombie: Dead City', '4.6')\n",
      "('eBay Kleinanzeigen for Germany', '4.6')\n",
      "('Live Hold’em Pro Poker - Free Casino Games', '4.6')\n",
      "('PokerStars Play: Free Texas Holdem Poker Game', '4.6')\n",
      "('Groupon - Shop Deals, Discounts & Coupons', '4.6')\n",
      "('ETERNITY WARRIORS 2', '4.6')\n",
      "('Fallout Shelter', '4.6')\n",
      "('Fire Emblem Heroes', '4.6')\n",
      "('Forgotten Hill Mementoes', '4.6')\n",
      "('FL Lottery Results', '4.6')\n",
      "('Podcast App: Free & Offline Podcasts by Player FM', '4.6')\n"
     ]
    }
   ],
   "source": [
    "teen_ratings = {}\n",
    "#loops through each app in android_final\n",
    "for app in android_final:\n",
    "    #if the app has a 'Teen' content rating and the rating is not 'Nan', add the app and the rating to a dictionary\n",
    "    if app[8] == 'Teen' and app[2] != 'NaN':\n",
    "        if float(app[2]) > 4.5:\n",
    "            teen_ratings[app[0]] = app[2]\n",
    "        \n",
    "#sort the apps by highest ratings and print each one out\n",
    "ratings = sorted(teen_ratings.items(), key=lambda x: x[1], reverse= True)\n",
    "for app in ratings:\n",
    "    print(app)"
   ]
  },
  {
   "cell_type": "markdown",
   "id": "56748292-ac3b-4bb4-a588-dd4cd768380d",
   "metadata": {},
   "source": [
    "# Conclusion"
   ]
  },
  {
   "cell_type": "markdown",
   "id": "96ac2070-31b4-4de6-9d13-b60f4f538f3e",
   "metadata": {},
   "source": [
    "Using for loops similar to the one above, you are able to explore through the data of individual apps and find information pertaining to your company's interests"
   ]
  },
  {
   "cell_type": "code",
   "execution_count": null,
   "id": "4223c77d-3316-4aa7-a064-3bb1a0358883",
   "metadata": {},
   "outputs": [],
   "source": []
  }
 ],
 "metadata": {
  "kernelspec": {
   "display_name": "Python 3 (ipykernel)",
   "language": "python",
   "name": "python3"
  },
  "language_info": {
   "codemirror_mode": {
    "name": "ipython",
    "version": 3
   },
   "file_extension": ".py",
   "mimetype": "text/x-python",
   "name": "python",
   "nbconvert_exporter": "python",
   "pygments_lexer": "ipython3",
   "version": "3.7.12"
  }
 },
 "nbformat": 4,
 "nbformat_minor": 5
}
